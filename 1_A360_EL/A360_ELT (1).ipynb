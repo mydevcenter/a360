{
 "metadata": {
  "kernelspec": {
   "display_name": "Streamlit Notebook",
   "name": "streamlit"
  },
  "lastEditStatus": {
   "notebookId": "gowdfxoha2votja4czst",
   "authorId": "8432959774263",
   "authorName": "DMITRI",
   "authorEmail": "dmitridbx@gmail.com",
   "sessionId": "c4867ba9-9899-40e8-bb2f-2c6c84018cd1",
   "lastEditTime": 1744322966823
  }
 },
 "nbformat_minor": 5,
 "nbformat": 4,
 "cells": [
  {
   "cell_type": "markdown",
   "id": "b33d29fe-53b6-4a03-b589-1db8248b9418",
   "metadata": {
    "name": "Header_ImportPackages",
    "collapsed": false
   },
   "source": "1. Import Packages"
  },
  {
   "cell_type": "code",
   "id": "3775908f-ca36-4846-8f38-5adca39217f2",
   "metadata": {
    "language": "python",
    "name": "ImportPackages"
   },
   "source": "###################################################################################################\n# Import Snowpark Package and a few Functions and Types\n###################################################################################################\nimport snowflake.snowpark as snowpark\nimport yaml\nfrom snowflake.snowpark.functions import col\nfrom snowflake.snowpark.types import StructField, StructType, IntegerType, StringType, TimestampType, DoubleType, DateType, FloatType\nfrom snowflake.core.stage import Stage\n",
   "execution_count": null,
   "outputs": []
  },
  {
   "cell_type": "markdown",
   "id": "48bab937-38d8-4708-bbd3-d793311beaa8",
   "metadata": {
    "name": "HeaderLoadFromConfigurationFile",
    "collapsed": false
   },
   "source": "2. Load Parameters from yml file"
  },
  {
   "cell_type": "code",
   "id": "ec739fa1-31b5-4172-9a1a-c95f1ca5cd61",
   "metadata": {
    "language": "python",
    "name": "LoadParameters"
   },
   "outputs": [],
   "source": "###################################################################################################\n# Load parameters\n###################################################################################################\n# Open and read the YAML file\nwith open('environment.yml', 'r') as file:\n    params = yaml.safe_load(file)\n\n# Access parameters\nstage_path = params['stage_path']\ntrain_file = params['train_file']\nweather_file = params['weather_file']",
   "execution_count": null
  },
  {
   "cell_type": "markdown",
   "id": "c7f06765-e3c7-4727-8cdb-e0467b407ab7",
   "metadata": {
    "name": "Header_PrepareStage",
    "collapsed": false
   },
   "source": "3. Prepare stage"
  },
  {
   "cell_type": "code",
   "id": "fa88a0ab-e978-432b-aed7-0bf21dd605c2",
   "metadata": {
    "language": "sql",
    "name": "Stage"
   },
   "outputs": [],
   "source": "##################################################################################################\n# Create database, schema and prepare external stage\n###################################################################################################\nCREATE DATABASE IF NOT EXISTS NY_TAXI_DATA;\nCREATE SCHEMA IF NOT EXISTS NY_TAXI_DATA.RAW;\nCREATE SCHEMA IF NOT EXISTS NY_TAXI_DATA.PROCESS;\nCREATE OR ALTER FILE FORMAT csv_format TYPE = CSV skip_header = 1;\nCREATE STAGE IF NOT EXISTS NY_TAXI_DATA.PROCESS.S3_STAGE_TAXI STORAGE_INTEGRATION = S3INTEGRATION URL = stage_path FILE_FORMAT = csv_format;",
   "execution_count": null
  },
  {
   "cell_type": "markdown",
   "id": "44325817-0868-4026-a20f-c0b1ee3e7131",
   "metadata": {
    "name": "Ingest",
    "collapsed": false
   },
   "source": "4. Ingest data from stage into table"
  },
  {
   "cell_type": "code",
   "id": "fa2d003c-ae31-4c49-9dc7-3bf57776bfa2",
   "metadata": {
    "language": "python",
    "name": "IngestTaxiDataFromStageToTable"
   },
   "outputs": [],
   "source": "###################################################################################################\n# Load data from external stage into raw layer\n###################################################################################################\nfrom snowflake.snowpark.context import get_active_session\nsession = get_active_session()\ntaxi_data_schema =  StructType([StructField(\"id\",StringType()),\\\n                        StructField(\"vendor_id\",IntegerType()),\\\n                        StructField(\"pickup_datetime\",TimestampType()),\\\n                        StructField(\"dropoff_datetime\",TimestampType()),\\\n                        StructField(\"passenger_count\",IntegerType()),\\\n                        StructField(\"pickup_longitude\",DoubleType()),\\\n                        StructField(\"pickup_latitude\",DoubleType()),\\\n                        StructField(\"dropoff_longitude\",DoubleType()),\\\n                        StructField(\"dropoff_latitude\",DoubleType()),\\\n                        StructField(\"store_and_fwd_flag\",StringType(1)),\\\n                        StructField(\"trip_duration\",IntegerType())])\n\nsession.sql('DROP TABLE IF EXISTS NY_TAXI_DATA.RAW.TAXI_DATA;').collect()\n\n# Create a Dataframe from our taxi_data file from our stage\nfile_path=train_file\nstage_read_df = session.read.options({\n        \"skip_header\": 1\n    }).schema(taxi_data_schema).csv(file_path)\n\n# Save our Dataframe as a taxi_data table in our ny_taxi_data DB and Raw Schema\nstage_read_df.write.mode(\"overwrite\").save_as_table(\"NY_TAXI_DATA.RAW.TAXI_DATA\")\n",
   "execution_count": null
  },
  {
   "cell_type": "code",
   "id": "cd50a783-3067-4091-bff8-c6ddd2fba996",
   "metadata": {
    "language": "python",
    "name": "IngestWeatherDataFromStageToTable"
   },
   "outputs": [],
   "source": "###################################################################################################\n# Load weather data \n###################################################################################################\nfrom snowflake.snowpark.context import get_active_session\nsession = get_active_session()\ntaxi_data_schema =  StructType([StructField(\"date\",StringType()),\\\n                    StructField(\"maximum_temperature\",IntegerType()),\\\n                    StructField(\"minimum_temperature\",IntegerType()),\\\n                    StructField(\"average_temperature\",FloatType()),\\\n                    StructField(\"precipitation\",StringType()),\\\n                    StructField(\"snow_fall\",StringType()),\\\n                    StructField(\"snow_depth\",StringType())                      ])\nsession.sql('DROP TABLE IF EXISTS NY_TAXI_DATA.RAW.WEATHER;').collect()\nfile_path=weather_file\nstage_read_df = session.read.options({\n        \"skip_header\": 1\n    }).schema(taxi_data_schema).csv(file_path)\n\n# Save our Dataframe as a taxi_data table in our ny_taxi_data DB and Raw Schema\nstage_read_df.write.mode(\"overwrite\").save_as_table(\"NY_TAXI_DATA.RAW.WEATHER\")\n",
   "execution_count": null
  }
 ]
}