{
 "metadata": {
  "kernelspec": {
   "display_name": "Streamlit Notebook",
   "name": "streamlit"
  },
  "lastEditStatus": {
   "notebookId": "yuikdkfakflcyosfduij",
   "authorId": "8432959774263",
   "authorName": "DMITRI",
   "authorEmail": "dmitridbx@gmail.com",
   "sessionId": "ea8144c8-e6ae-48bd-8a86-0235dab511ba",
   "lastEditTime": 1744341666274
  }
 },
 "nbformat_minor": 5,
 "nbformat": 4,
 "cells": [
  {
   "cell_type": "markdown",
   "id": "f1ecce0b-cb0e-4066-b44c-d695d902ee44",
   "metadata": {
    "name": "cell1",
    "collapsed": false
   },
   "source": "Pie Chart"
  },
  {
   "cell_type": "code",
   "id": "3775908f-ca36-4846-8f38-5adca39217f2",
   "metadata": {
    "language": "python",
    "name": "PieChart"
   },
   "source": "###################################################################################################\n# Import Snowpark Package and a few Functions\n###################################################################################################\nfrom snowflake.snowpark.context import get_active_session\nimport snowflake.snowpark.functions as f\nimport matplotlib.pyplot as plt\n\n# Load data from table into dataframe\nsession = get_active_session()\ntaxi_raw_df = session.table(\"NY_TAXI_DATA.CLEAN.CLEAN_TRAIN\")\n\n# Aggregate = passenger count by vendor\ndf_group = taxi_raw_df.group_by(\"VENDOR_ID\").agg(f.sum(\"PASSENGER_COUNT\").alias(\"VENDOR_ID\"))\ndf_group.show()\n\n\n# Collect data into a Pandas DataFrame\nimport pandas as pd\ndata = df_group.collect()\ndf_pandas = pd.DataFrame(data, columns=['VENDOR_ID', 'PASSENGER_COUNT'])\n\n# Create the pie chart using Matplotlib\nimport matplotlib.pyplot as plt\n\nplt.pie(df_pandas['PASSENGER_COUNT'], labels=df_pandas['VENDOR_ID'], autopct='%1.1f%%')\nplt.title('Passenger count by Vendor')\nplt.show()",
   "execution_count": null,
   "outputs": []
  },
  {
   "cell_type": "markdown",
   "id": "acdd702a-c611-4742-8689-b69f2441bf9e",
   "metadata": {
    "name": "cell6",
    "collapsed": false
   },
   "source": "Histogram, Bar Chart"
  },
  {
   "cell_type": "code",
   "id": "2b5b0ca3-be28-441f-b9ed-15d98fe6a884",
   "metadata": {
    "language": "python",
    "name": "cell2"
   },
   "outputs": [],
   "source": "import numpy as np\nimport seaborn as sns\n\n# settings for seaborn plotting style\nsns.set(color_codes=True)\n# settings for seaborn plot sizes\nsns.set(rc={'figure.figsize':(5,5)})\n\n# aggregate, slicing by trip_duration\ndf_group2 = taxi_raw_df.group_by(\"trip_duration\").agg(f.count(\"trip_duration\").alias(\"tcount\")).order_by(\"trip_duration\").filter(\"trip_duration < 80000\").filter(\"tcount > 5\")\ndf_pandas2 = df_group2.to_pandas()",
   "execution_count": null
  },
  {
   "cell_type": "code",
   "id": "d58469b8-fb1d-4633-b5b7-d6d61cfc50e2",
   "metadata": {
    "language": "python",
    "name": "cell8"
   },
   "outputs": [],
   "source": "# prepare bar chart\nfig, ax = plt.subplots()\nsns.barplot(x='TRIP_DURATION',y='TCOUNT', data=df_pandas2, edgecolor='skyblue')\nplt.title('Trip duration distribution')\nplt.xlabel('Trip duration, seconds')\nplt.ylabel('Number of trips for the duration')\nax.set_xticks([299, 1499, 2999])\nplt.show()",
   "execution_count": null
  },
  {
   "cell_type": "code",
   "id": "6c616f58-4e57-400b-85dc-d657d3e63f22",
   "metadata": {
    "language": "python",
    "name": "cell3"
   },
   "outputs": [],
   "source": "# The same insight - histogram\ndf_pandas2['TCOUNT'].hist(bins=20)\nplt.title(\"Trip duration histogram\")\nplt.xlabel('TRIP_DURATION')\nplt.ylabel('TCOUNT')\nplt.show()",
   "execution_count": null
  },
  {
   "cell_type": "code",
   "id": "37c81b49-a604-470b-860e-364bec990e55",
   "metadata": {
    "language": "python",
    "name": "cell4"
   },
   "outputs": [],
   "source": "train = session.table(\"NY_TAXI_DATA.CLEAN.CLEAN_TRAIN\").to_pandas()",
   "execution_count": null
  },
  {
   "cell_type": "markdown",
   "id": "f33a13c0-d355-4a41-8381-3a8ab71fb2a7",
   "metadata": {
    "name": "cell7",
    "collapsed": false
   },
   "source": "Scatter plot, Geographical distribution"
  },
  {
   "cell_type": "code",
   "id": "2bd47492-3300-4e39-bf57-17b5ddda45a6",
   "metadata": {
    "language": "python",
    "name": "cell5"
   },
   "outputs": [],
   "source": "#scatter plot\nsns.scatterplot(data=train, x='PICKUP_LONGITUDE', y='PICKUP_LATITUDE'\n                #, hue='VENDOR_ID', size='TRIP_DURATION' # these 2 options don't reveal significant insights, but consume processig power\n               ).set(title='Scatter plot', xlabel='Longitude', ylabel='Latitude')",
   "execution_count": null
  }
 ]
}
